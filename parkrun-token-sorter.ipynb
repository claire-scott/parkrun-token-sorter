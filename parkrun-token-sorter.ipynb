{
 "cells": [
  {
   "cell_type": "markdown",
   "metadata": {},
   "source": [
    "# Parkrun token sorter"
   ]
  },
  {
   "cell_type": "code",
   "execution_count": 48,
   "metadata": {},
   "outputs": [],
   "source": [
    "with open('token-sorter.svg','w') as f:\n",
    "        f.write('<?xml version=\"1.0\" encoding=\"UTF-8\" standalone=\"no\"?>')\n",
    "        f.write('')\n",
    "\n",
    "        f.write('''<svg \n",
    "        width=\"297mm\" \n",
    "        height=\"210mm\" \n",
    "        viewBox=\"0 0 297 210\"\n",
    "        xmlns=\"http://www.w3.org/2000/svg\"\n",
    "        xmlns:svg=\"http://www.w3.org/2000/svg\">''')\n",
    "\n",
    "        f.write('\\t<g id=\"token-sorter\">')\n",
    "        f.write('''\\t\\t<rect \n",
    "                        style=\"fill:none;stroke:#ff0000;stroke-width:0.1;stroke-opacity:1\"\n",
    "                        id=\"surround\"\n",
    "                        width=\"255\"\n",
    "                        height=\"165\"\n",
    "                        x=\"10\"\n",
    "                        y=\"10\" />''')\n",
    "\n",
    "        for x in range(5):\n",
    "                left = 25 + (x*50)\n",
    "                x_top_val = (x+1) * 40\n",
    "                for g in range(4):\n",
    "                        group_top = 20 + (g*33)\n",
    "                        group_top_val = x_top_val - (g * 10)\n",
    "                        for y in range(10):\n",
    "                                top = group_top + (y*3)\n",
    "\n",
    "                                y_val = group_top_val - y\n",
    "                                text_left = left + 10\n",
    "\n",
    "                                letter_width=2.5\n",
    "                                if (y_val % 2 == 0):\n",
    "                                        text_left = left + 27\n",
    "                                else:\n",
    "                                        text_left = left - 3 - (len(str(y_val))*letter_width)\n",
    "                                \n",
    "\n",
    "                                f.write(f'''\\t\\t<rect \n",
    "                                                style=\"fill:none;stroke:#ff0000;stroke-width:0.1;stroke-opacity:1\"\n",
    "                                                id=\"surround\"\n",
    "                                                width=\"25\"\n",
    "                                                height=\"2\"\n",
    "                                                x=\"{left}\"\n",
    "                                                y=\"{top}\" />''')\n",
    "                                f.write(f'''\\t\\t<text\n",
    "                                                style=\"fill:#0000ff;stroke:none;font-size:5px;font-family:Courier\"\n",
    "                                                x={text_left}\n",
    "                                                y={top+2.65}>{y_val}</text>''')\n",
    "\n",
    "\n",
    "\n",
    "        f.write('\\t</g>')\n",
    "        f.write('</svg>')\n",
    "\n",
    "\n"
   ]
  },
  {
   "cell_type": "code",
   "execution_count": 49,
   "metadata": {},
   "outputs": [
    {
     "ename": "ExpatError",
     "evalue": "not well-formed (invalid token): line 20, column 50",
     "output_type": "error",
     "traceback": [
      "\u001b[0;31m---------------------------------------------------------------------------\u001b[0m",
      "\u001b[0;31mExpatError\u001b[0m                                Traceback (most recent call last)",
      "\u001b[1;32mUntitled-1.ipynb Cell 3\u001b[0m in \u001b[0;36m<cell line: 1>\u001b[0;34m()\u001b[0m\n\u001b[0;32m----> <a href='vscode-notebook-cell:Untitled-1.ipynb?jupyter-notebook#W5sdW50aXRsZWQ%3D?line=0'>1</a>\u001b[0m display(SVG(\u001b[39m'\u001b[39;49m\u001b[39mtoken-sorter.svg\u001b[39;49m\u001b[39m'\u001b[39;49m))\n",
      "File \u001b[0;32m~/opt/anaconda3/lib/python3.9/site-packages/IPython/core/display.py:327\u001b[0m, in \u001b[0;36mDisplayObject.__init__\u001b[0;34m(self, data, url, filename, metadata)\u001b[0m\n\u001b[1;32m    324\u001b[0m \u001b[39melif\u001b[39;00m \u001b[39mself\u001b[39m\u001b[39m.\u001b[39mmetadata \u001b[39mis\u001b[39;00m \u001b[39mNone\u001b[39;00m:\n\u001b[1;32m    325\u001b[0m     \u001b[39mself\u001b[39m\u001b[39m.\u001b[39mmetadata \u001b[39m=\u001b[39m {}\n\u001b[0;32m--> 327\u001b[0m \u001b[39mself\u001b[39;49m\u001b[39m.\u001b[39;49mreload()\n\u001b[1;32m    328\u001b[0m \u001b[39mself\u001b[39m\u001b[39m.\u001b[39m_check_data()\n",
      "File \u001b[0;32m~/opt/anaconda3/lib/python3.9/site-packages/IPython/core/display.py:354\u001b[0m, in \u001b[0;36mDisplayObject.reload\u001b[0;34m(self)\u001b[0m\n\u001b[1;32m    352\u001b[0m     encoding \u001b[39m=\u001b[39m \u001b[39mNone\u001b[39;00m \u001b[39mif\u001b[39;00m \u001b[39m\"\u001b[39m\u001b[39mb\u001b[39m\u001b[39m\"\u001b[39m \u001b[39min\u001b[39;00m \u001b[39mself\u001b[39m\u001b[39m.\u001b[39m_read_flags \u001b[39melse\u001b[39;00m \u001b[39m\"\u001b[39m\u001b[39mutf-8\u001b[39m\u001b[39m\"\u001b[39m\n\u001b[1;32m    353\u001b[0m     \u001b[39mwith\u001b[39;00m \u001b[39mopen\u001b[39m(\u001b[39mself\u001b[39m\u001b[39m.\u001b[39mfilename, \u001b[39mself\u001b[39m\u001b[39m.\u001b[39m_read_flags, encoding\u001b[39m=\u001b[39mencoding) \u001b[39mas\u001b[39;00m f:\n\u001b[0;32m--> 354\u001b[0m         \u001b[39mself\u001b[39m\u001b[39m.\u001b[39mdata \u001b[39m=\u001b[39m f\u001b[39m.\u001b[39mread()\n\u001b[1;32m    355\u001b[0m \u001b[39melif\u001b[39;00m \u001b[39mself\u001b[39m\u001b[39m.\u001b[39murl \u001b[39mis\u001b[39;00m \u001b[39mnot\u001b[39;00m \u001b[39mNone\u001b[39;00m:\n\u001b[1;32m    356\u001b[0m     \u001b[39m# Deferred import\u001b[39;00m\n\u001b[1;32m    357\u001b[0m     \u001b[39mfrom\u001b[39;00m \u001b[39murllib\u001b[39;00m\u001b[39m.\u001b[39;00m\u001b[39mrequest\u001b[39;00m \u001b[39mimport\u001b[39;00m urlopen\n",
      "File \u001b[0;32m~/opt/anaconda3/lib/python3.9/site-packages/IPython/core/display.py:479\u001b[0m, in \u001b[0;36mSVG.data\u001b[0;34m(self, svg)\u001b[0m\n\u001b[1;32m    477\u001b[0m \u001b[39m# parse into dom object\u001b[39;00m\n\u001b[1;32m    478\u001b[0m \u001b[39mfrom\u001b[39;00m \u001b[39mxml\u001b[39;00m\u001b[39m.\u001b[39;00m\u001b[39mdom\u001b[39;00m \u001b[39mimport\u001b[39;00m minidom\n\u001b[0;32m--> 479\u001b[0m x \u001b[39m=\u001b[39m minidom\u001b[39m.\u001b[39;49mparseString(svg)\n\u001b[1;32m    480\u001b[0m \u001b[39m# get svg tag (should be 1)\u001b[39;00m\n\u001b[1;32m    481\u001b[0m found_svg \u001b[39m=\u001b[39m x\u001b[39m.\u001b[39mgetElementsByTagName(\u001b[39m'\u001b[39m\u001b[39msvg\u001b[39m\u001b[39m'\u001b[39m)\n",
      "File \u001b[0;32m~/opt/anaconda3/lib/python3.9/xml/dom/minidom.py:1998\u001b[0m, in \u001b[0;36mparseString\u001b[0;34m(string, parser)\u001b[0m\n\u001b[1;32m   1996\u001b[0m \u001b[39mif\u001b[39;00m parser \u001b[39mis\u001b[39;00m \u001b[39mNone\u001b[39;00m:\n\u001b[1;32m   1997\u001b[0m     \u001b[39mfrom\u001b[39;00m \u001b[39mxml\u001b[39;00m\u001b[39m.\u001b[39;00m\u001b[39mdom\u001b[39;00m \u001b[39mimport\u001b[39;00m expatbuilder\n\u001b[0;32m-> 1998\u001b[0m     \u001b[39mreturn\u001b[39;00m expatbuilder\u001b[39m.\u001b[39;49mparseString(string)\n\u001b[1;32m   1999\u001b[0m \u001b[39melse\u001b[39;00m:\n\u001b[1;32m   2000\u001b[0m     \u001b[39mfrom\u001b[39;00m \u001b[39mxml\u001b[39;00m\u001b[39m.\u001b[39;00m\u001b[39mdom\u001b[39;00m \u001b[39mimport\u001b[39;00m pulldom\n",
      "File \u001b[0;32m~/opt/anaconda3/lib/python3.9/xml/dom/expatbuilder.py:925\u001b[0m, in \u001b[0;36mparseString\u001b[0;34m(string, namespaces)\u001b[0m\n\u001b[1;32m    923\u001b[0m \u001b[39melse\u001b[39;00m:\n\u001b[1;32m    924\u001b[0m     builder \u001b[39m=\u001b[39m ExpatBuilder()\n\u001b[0;32m--> 925\u001b[0m \u001b[39mreturn\u001b[39;00m builder\u001b[39m.\u001b[39;49mparseString(string)\n",
      "File \u001b[0;32m~/opt/anaconda3/lib/python3.9/xml/dom/expatbuilder.py:223\u001b[0m, in \u001b[0;36mExpatBuilder.parseString\u001b[0;34m(self, string)\u001b[0m\n\u001b[1;32m    221\u001b[0m parser \u001b[39m=\u001b[39m \u001b[39mself\u001b[39m\u001b[39m.\u001b[39mgetParser()\n\u001b[1;32m    222\u001b[0m \u001b[39mtry\u001b[39;00m:\n\u001b[0;32m--> 223\u001b[0m     parser\u001b[39m.\u001b[39;49mParse(string, \u001b[39mTrue\u001b[39;49;00m)\n\u001b[1;32m    224\u001b[0m     \u001b[39mself\u001b[39m\u001b[39m.\u001b[39m_setup_subset(string)\n\u001b[1;32m    225\u001b[0m \u001b[39mexcept\u001b[39;00m ParseEscape:\n",
      "\u001b[0;31mExpatError\u001b[0m: not well-formed (invalid token): line 20, column 50"
     ]
    }
   ],
   "source": [
    "display(SVG('token-sorter.svg'))"
   ]
  }
 ],
 "metadata": {
  "kernelspec": {
   "display_name": "Python 3.9.12 ('base')",
   "language": "python",
   "name": "python3"
  },
  "language_info": {
   "codemirror_mode": {
    "name": "ipython",
    "version": 3
   },
   "file_extension": ".py",
   "mimetype": "text/x-python",
   "name": "python",
   "nbconvert_exporter": "python",
   "pygments_lexer": "ipython3",
   "version": "3.9.12"
  },
  "orig_nbformat": 4,
  "vscode": {
   "interpreter": {
    "hash": "515d053dab8908e868f61779c08ef3420c49fd2177240fee3203f64948c77856"
   }
  }
 },
 "nbformat": 4,
 "nbformat_minor": 2
}
